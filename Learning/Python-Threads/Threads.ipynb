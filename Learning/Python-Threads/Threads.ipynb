{
 "cells": [
  {
   "cell_type": "markdown",
   "id": "0a556190-efbc-4e87-b7c7-f04bde7451fd",
   "metadata": {},
   "source": [
    "# <font color=orange>**PYTHON**</font> "
   ]
  },
  {
   "cell_type": "markdown",
   "id": "63741c32-f7b7-4073-ad26-4e2e6633da07",
   "metadata": {},
   "source": [
    "## <font color=gray>**Threads**</font> "
   ]
  },
  {
   "cell_type": "markdown",
   "id": "83f076cf-3d7e-4ab6-ab41-ee8e9c89b0b9",
   "metadata": {},
   "source": [
    "*Is parçacıklarını kullanmak, bir programin ayni islem alaninda ayni anda birden cok islemi yurutmesine izin verir.*"
   ]
  },
  {
   "cell_type": "markdown",
   "id": "9ba301f4-2db8-42cb-9be9-51667781b0a1",
   "metadata": {},
   "source": [
    "### <font color=gold>**Thread Objects**</font> <font color=dimgray>**(Is Parcacigi Nesneleri)**</font> "
   ]
  },
  {
   "cell_type": "markdown",
   "id": "683ad40b-5ad6-4d08-b473-3dbebc0eeacc",
   "metadata": {},
   "source": [
    "*Bir Thread kullanmanin en basit yolu, onu bir hedef islevle baslatmak ve calismaya baslamasi icin **start()** metodunu cagirmaktir.*"
   ]
  },
  {
   "cell_type": "code",
   "execution_count": 14,
   "id": "84a5ac98-04e7-4c7b-8090-6e950c5039e0",
   "metadata": {},
   "outputs": [
    {
     "name": "stdout",
     "output_type": "stream",
     "text": [
      "isci\n",
      "isci\n",
      "isci\n",
      "isci\n",
      "isci\n"
     ]
    }
   ],
   "source": [
    "# Threading kutuphanesi yuklu gelir iceri aktarmak yeterlidir.\n",
    "\n",
    "import threading\n",
    "\n",
    "#Ornek bir fonksiyon olusturalmasi:\n",
    "def calisan():\n",
    "    '''\n",
    "    thread calisan function\n",
    "    '''\n",
    "    print('isci')\n",
    "    \n",
    "# 5 satirli ve her birinde yukaridaki fonksioynun sonucu olan ciktiyi alma.\n",
    "threads = []\n",
    "for i in range(5):\n",
    "    t = threading.Thread(target = calisan)\n",
    "    threads.append(t)\n",
    "    t.start()"
   ]
  },
  {
   "cell_type": "markdown",
   "id": "01e74f71-c6c5-4e35-aa0c-6848f9e9e3d7",
   "metadata": {},
   "source": [
    "* Bir is parcacigi olusturabilmek ve ona ne yapmasi gerektigini soylemek icin argumanlar iletebilmek yararlidir. \n",
    "\n",
    "* Herhangi bir tur nesne, is parcacigina bagimsiz degisken olarak iletilebilir. \n",
    "\n",
    "Asagidaki örnek, iş parçacığının daha sonra yazdırdığı bir sayıyı iletir."
   ]
  },
  {
   "cell_type": "code",
   "execution_count": 18,
   "id": "62f16b1d-35ff-4864-96e0-c86871fb44d9",
   "metadata": {},
   "outputs": [
    {
     "name": "stdout",
     "output_type": "stream",
     "text": [
      "Arac Sirasi: 1\n",
      "Arac Sirasi: 2\n",
      "Arac Sirasi: 3\n",
      "Arac Sirasi: 4\n",
      "Arac Sirasi: 5\n"
     ]
    }
   ],
   "source": [
    "import threading\n",
    "\n",
    "# Arac sirasiyla ilgili bir metod yazalim sonucu arac ve sira nosu olsun.\n",
    "def cars(no):\n",
    "    print('Arac Sirasi: %s' % no)\n",
    "    \n",
    "#Yukaridaki cars fonksiyonunu 5 kez calistiran ve sonucunu etkileyen arguman ekleyelim:\n",
    "\n",
    "threads = []\n",
    "for i in range(1,6):\n",
    "    t = threading.Thread(target=cars, args=(i,)) #arg tuple olarak girilir.\n",
    "    threads.append(t)\n",
    "    t.start()"
   ]
  },
  {
   "cell_type": "markdown",
   "id": "f107f217-c7fb-4e71-ac6a-404438d55d6f",
   "metadata": {},
   "source": [
    "int bağımsız degiskeni artik her is parcacigi tarafindan yazdirilan mesaja dahil edilmistir."
   ]
  },
  {
   "cell_type": "markdown",
   "id": "9fd655ff-e188-41bb-9953-92ac4be9e379",
   "metadata": {},
   "source": [
    "### <font color=gold>**Determining the Current Thread**</font> <font color=dimgray>**(Mevcut Konuyu Belirleme)**</font> "
   ]
  },
  {
   "cell_type": "markdown",
   "id": "53fb0286-798e-4ed1-8d0b-44ce46939659",
   "metadata": {},
   "source": [
    "* Is parcacigini tanimlamak veya adlandirmak icin bagimsiz degişkenler kullanmak zahmetli ve gereksizdir. \n",
    "\n",
    "* Her Thread orneginin, thread olusturulurken degistirilebilen varsayilan degeri olan bir adi vardir. \n",
    "\n",
    "* Is parcaciklarini adlandirmak, farkli islemleri gerceklestiren birden cok hizmet is parçacığına sahip sunucu islemlerinde kullanislidir."
   ]
  },
  {
   "cell_type": "code",
   "execution_count": 1,
   "id": "5edfbe29-6590-45ef-97e8-c07bb4aa0ad8",
   "metadata": {},
   "outputs": [
    {
     "name": "stdout",
     "output_type": "stream",
     "text": [
      "sistem Starting\n",
      "Thread-5 Starting\n",
      "servis Starting\n",
      "Thread-5 Exiting\n",
      "sistem Exiting\n",
      "servis Exiting\n"
     ]
    }
   ],
   "source": [
    "import threading\n",
    "import time\n",
    "\n",
    "# iki tane ciktisi olan ornek 2 fonk olusturalim.\n",
    "def sistem():\n",
    "    print(threading.current_thread().getName(), 'Starting')\n",
    "    time.sleep(0.2)\n",
    "    print(threading.current_thread().getName(), 'Exiting')\n",
    "    \n",
    "def servis():\n",
    "    print(threading.current_thread().getName(), 'Starting')\n",
    "    time.sleep(0.3)\n",
    "    print(threading.current_thread().getName(), 'Exiting')\n",
    "    \n",
    "    \n",
    "t  = threading.Thread(name='servis', target=servis) #thread ismi servis\n",
    "s  = threading.Thread(name='sistem', target=sistem) # thread ismi sistem\n",
    "s2 = threading.Thread(target=sistem) # varsayılan thread ismi olsun\n",
    "\n",
    "s.start()\n",
    "s2.start()\n",
    "t.start()"
   ]
  },
  {
   "cell_type": "markdown",
   "id": "89306081-0601-4cad-8c22-50ba6203295f",
   "metadata": {},
   "source": [
    "- Cogu program hata ayiklamak icin yazdirmayi kullanmaz.\n",
    "\n",
    "- logging modulu, %(threadName)s formatlayici kodunu kullanarak is parcacigi adinin her gunluk mesajina eklenmesini destekler.\n",
    "\n",
    "- Gunluk mesajlarina konu adlarinin dahil edilmesi, bu mesajlarin kaynagina kadar izlenmesini mumkun kilar."
   ]
  },
  {
   "cell_type": "code",
   "execution_count": 15,
   "id": "b8534bc3-1106-4381-bf24-69686f70ec86",
   "metadata": {},
   "outputs": [
    {
     "name": "stderr",
     "output_type": "stream",
     "text": [
      "[DEBUG] (Sistem    ) Starting\n",
      "[DEBUG] (Thread-18 ) Starting\n",
      "[DEBUG] (Servis    ) Starting\n",
      "[DEBUG] (Thread-18 ) Exiting\n",
      "[DEBUG] (Sistem    ) Exiting\n",
      "[DEBUG] (Servis    ) Exiting\n"
     ]
    }
   ],
   "source": [
    "import threading\n",
    "import logging\n",
    "import time\n",
    "\n",
    "def sistem():\n",
    "    logging.debug('Starting')\n",
    "    time.sleep(0.2)\n",
    "    logging.debug('Exiting')\n",
    "    \n",
    "def servis():\n",
    "    logging.debug('Starting')\n",
    "    time.sleep(0.3)\n",
    "    logging.debug('Exiting')\n",
    "\n",
    "from importlib import reload \n",
    "reload(logging)\n",
    "logging.basicConfig(format='[%(levelname)s] (%(threadName)-10s) %(message)s', level=logging.DEBUG)\n",
    "\n",
    "\n",
    "t  = threading.Thread(name='Servis', target=servis)\n",
    "s  = threading.Thread(name='Sistem', target=sistem)\n",
    "s2 = threading.Thread(target=sistem) # bir tane de varsayilan ismi kullanalim\n",
    "\n",
    "s.start()\n",
    "s2.start()\n",
    "t.start()"
   ]
  },
  {
   "cell_type": "markdown",
   "id": "9051cbb3-092c-4751-a61d-7e990d7ba1b5",
   "metadata": {},
   "source": [
    "logging ayni zamanda is parcacigi acisindan guvenlidir, dolayisiyla farkli is parcaciklarindan gelen mesajlar ciktida ayri tutulur."
   ]
  },
  {
   "cell_type": "markdown",
   "id": "8cfb1412-2e7a-473c-aa38-348623cb8dee",
   "metadata": {},
   "source": [
    "### <font color=gold>**Daemon vs. Non-Daemon Thread**</font> <font color=dimgray>**-**</font> "
   ]
  },
  {
   "cell_type": "markdown",
   "id": "6e087a84-0aa0-431c-b668-11faaaffc00b",
   "metadata": {},
   "source": [
    "* Bu noktaya kadar, ornek programlar ortulu olarak tum is parcaciklari islerini tamamlayana kadar cikmak icin beklemistir.\n",
    "\n",
    "* Bazen programlar, ana programin cikisini engellemeden calisan bir arka plan programi olarak bir is parcacigi olusturur.\n",
    "\n",
    "* Daemon is parcaciklarini kullanma is parcacigini kesmenin kolay bir yolunun olmayabilecegi veya is parcaciginin isinin ortasinda olmesine izin verilmesinin verileri kaybetmedigi veya bozmadigi hizmetler icin kullanislidir.\n",
    "        \n",
    "    *(Ornegin, bir hizmet izleme araci icin \"kalp atislari\" olusturan bir is parcacigi)*\n",
    "\n",
    "* Bir is parcacigini arka plan programi olarak isaretlemek icin, onu olustururken daemon=True iletin veya set_daemon() yontemini True ile cagirin.\n",
    "\n",
    "* Varsayilan, is parcaciklarinin arka plan programi olmamasidir."
   ]
  },
  {
   "cell_type": "code",
   "execution_count": null,
   "id": "75c1020f-e152-48dc-9d10-487385e981d9",
   "metadata": {},
   "outputs": [],
   "source": [
    "import threading\n",
    "import logging\n",
    "import time\n",
    "\n",
    "def daemon():\n",
    "    logging.debug('Starting')\n",
    "    time.sleep(0.2)\n",
    "    logging.debug('Exiting')\n",
    "\n",
    "    \n",
    "def non_daemon():\n",
    "    logging.debug('Starting')\n",
    "    logging.debug('Exiting')\n",
    "\n",
    "    \n",
    "\n",
    "logging.basicConfig(level=logging.DEBUG,\n",
    "                   format='(%(threadName)-10s) %(message)s',)\n",
    "\n",
    "d = threading.Thread(name='Daemon', target=daemon, daemon=True)\n",
    "t = threading.Thread(name='Non-Daemon', target=non_daemon)\n",
    "\n",
    "d.start()\n",
    "t.start()"
   ]
  },
  {
   "cell_type": "markdown",
   "id": "4770f6dc-25da-4d25-9f20-1e2e3809ef53",
   "metadata": {},
   "source": [
    "<font color=red>Output:</font> \n",
    "\n",
    "\n",
    "<font color=gold>(daemon) Starting\n",
    "\n",
    "<font color=gold>(non-daemon) Starting\n",
    "\n",
    "<font color=gold>(non-daemon) Exiting\n",
    "</font>\n",
    "\n",
    "Cikti, daemon is parcacigindan \"Exiting\" mesajini icermez, cunku tum arka plan disi is parcaciklari (ana is parcacigi dahil), arka plan is parcacigi sleep() cagrisindan uyanmadan once cikar."
   ]
  },
  {
   "cell_type": "markdown",
   "id": "19bf852e-ee0a-4756-97b1-f8871f329fd4",
   "metadata": {},
   "source": [
    "** \n",
    "\n",
    "Bir arka plan programi is parcaciginin isini tamamlamasini beklemek icin, join() yontemini kullanilir."
   ]
  },
  {
   "cell_type": "code",
   "execution_count": 8,
   "id": "d765a3d2-9e39-4015-ba2d-e7aeb3bd671a",
   "metadata": {},
   "outputs": [
    {
     "name": "stderr",
     "output_type": "stream",
     "text": [
      "(Daemon    ) Starting\n",
      "(Non-Daemon) Starting\n",
      "(Non-Daemon) Exiting\n",
      "(Daemon    ) Exiting\n"
     ]
    }
   ],
   "source": [
    "import threading\n",
    "import logging\n",
    "import time\n",
    "\n",
    "def daemon():\n",
    "    logging.debug('Starting')\n",
    "    time.sleep(.2)\n",
    "    logging.debug('Exiting')\n",
    "    \n",
    "def non_daemon():\n",
    "    logging.debug('Starting')\n",
    "    logging.debug('Exiting')\n",
    "    \n",
    "logging.basicConfig(level=logging.DEBUG,\n",
    "                   format='(%(threadName)-10s) %(message)s',)\n",
    "\n",
    "d = threading.Thread(name='Daemon', target=daemon, daemon=True)\n",
    "t = threading.Thread(name='Non-Daemon', target=non_daemon)\n",
    "\n",
    "d.start()\n",
    "t.start()\n",
    "\n",
    "d.join()\n",
    "t.join()"
   ]
  },
  {
   "cell_type": "markdown",
   "id": "da2a0b33-47c1-41ce-8a8d-60794b9a97dc",
   "metadata": {},
   "source": [
    "Daemon is parcaciginin join() kullanarak cikmasini beklemek, onun \"Exiting\" mesajini uretme sansi oldugu anlamina gelir."
   ]
  },
  {
   "cell_type": "markdown",
   "id": "a77ef4da-436c-437f-aba2-0a386c554a54",
   "metadata": {},
   "source": [
    "\n",
    "\n",
    "\n",
    "---\n",
    "\n",
    "Varsayilan olarak, join() suresiz olarak engeller. Is parcaciginin devre disi kalmasi icin beklenecek saniye sayisini temsil eden bir kayan deger iletmek de mumkundur. \n",
    "\n",
    "Is parcacigi zaman asimi suresi icinde tamamlanmazsa, join() yine de geri doner."
   ]
  },
  {
   "cell_type": "code",
   "execution_count": null,
   "id": "a4410afa-001f-4b88-b63f-caaebad328ed",
   "metadata": {},
   "outputs": [],
   "source": [
    "import threading\n",
    "import time\n",
    "import logging\n",
    "\n",
    "def daemon():\n",
    "    logging.debug('Starting')\n",
    "    time.sleep(0.2)\n",
    "    logging.debug('Exiting')\n",
    "    \n",
    "def non_daemon():\n",
    "    logging.debug('Starting')\n",
    "    logging.debug('Exiting')\n",
    "    \n",
    "logging.basicConfig(level=logging.DEBUG,\n",
    "                   format = '(%(threadName)-10s) %(message)s',)\n",
    "\n",
    "d = threading.Thread(name='Daemon', target=daemon, daemon=True)\n",
    "t = threading.Thread(name='Non-Daemon', target=non_daemon)\n",
    "\n",
    "d.start()\n",
    "t.start()\n",
    "\n",
    "d.join(0.1)\n",
    "print('d.isAlive()', d.is_alive())\n",
    "t.join()"
   ]
  },
  {
   "cell_type": "markdown",
   "id": "32604327-7224-48be-b304-a7e84aedf3c3",
   "metadata": {},
   "source": [
    "Output:\n",
    "\n",
    "<font color=gold>(Daemon    ) Starting</font>\n",
    "\n",
    "<font color=gold>(Non-Daemon) Starting</font>\n",
    "\n",
    "<font color=gold>(Non-Daemon) Exiting</font>\n",
    "\n",
    "<font color=gold>d.isAlive() True</font>\n",
    "\n",
    "---\n",
    "Geçen zaman aşımı, daemon iş parçacığının uyuduğu süreden daha az olduğu için, iş parçacığı, join() döndükten sonra hala “canlıdır”."
   ]
  },
  {
   "cell_type": "markdown",
   "id": "98ac11b3-5349-469a-ae5a-c0a3ca0114f7",
   "metadata": {},
   "source": [
    "### <font color=gold>**Enumerating All Threads**</font> <font color=dimgray>**Is Parcaciklarinin Numaralandirilmasi**</font> "
   ]
  },
  {
   "cell_type": "markdown",
   "id": "b8680cda-3e7d-4b0f-ab27-f2074d215dca",
   "metadata": {},
   "source": [
    "* Ana süreçten çıkmadan önce tamamlandıklarından emin olmak için tüm daemon iş parçacıklarının açık bir tanıtıcısını tutmak gerekli değildir.\n",
    "\n",
    "* enumerate(), etkin Thread örneklerinin bir listesini döndürür.\n",
    "\n",
    "* Liste, geçerli ileti dizisini içerir ve geçerli ileti dizisine katılmak bir kilitlenme durumu ortaya çıkardığından, atlanması gerekir.\n"
   ]
  },
  {
   "cell_type": "code",
   "execution_count": null,
   "id": "1bd70c98-a392-4811-bc3d-99bad3e75b36",
   "metadata": {},
   "outputs": [],
   "source": [
    "import random\n",
    "import threading\n",
    "import time\n",
    "import logging\n",
    "\n",
    "def sistem():\n",
    "    '''thread sistem function'''\n",
    "    pause = random.randint(1,5)/10\n",
    "    logging.debug('sleeping %0.2f',pause)\n",
    "    time.sleep(pause)\n",
    "    logging.debug('ending')\n",
    "    \n",
    "logging.basicConfig(level=logging.DEBUG,\n",
    "                   format='(%(threadName)-10s) %(message)s',)\n",
    "\n",
    "for i in range(3):\n",
    "    t = threading.Thread(target=sistem, daemon=True)\n",
    "    t.start()\n",
    "    \n",
    "main_thread = threading.main_thread()\n",
    "for t in threading.enumerate():\n",
    "    if t is main_thread:\n",
    "        continue\n",
    "    logging.debug('joining %s',t.getName())\n",
    "    t.join()"
   ]
  },
  {
   "cell_type": "code",
   "execution_count": null,
   "id": "40bee182-f30c-40e3-a008-844e9ea7d62a",
   "metadata": {},
   "outputs": [],
   "source": [
    "# Output:\n",
    "'''\n",
    "(Thread-1  ) sleeping 0.50\n",
    "(Thread-2  ) sleeping 0.40\n",
    "(Thread-3  ) sleeping 0.50\n",
    "(MainThread) joining Thread-1\n",
    "(Thread-2  ) ending\n",
    "(Thread-3  ) ending\n",
    "(Thread-1  ) ending\n",
    "(MainThread) joining Thread-2\n",
    "(MainThread) joining Thread-3\n",
    "'''\n",
    "\n",
    "# sistem rastgele bir süre uyuduğundan, bu programın çıktısı değişebilir. "
   ]
  },
  {
   "cell_type": "markdown",
   "id": "4c2b77cf-a5c4-4662-805e-4de7ae741541",
   "metadata": {},
   "source": [
    "### <font color=gold>**Subclassing Thread**</font> <font color=dimgray>**İş Parçacıklarını Alt Sınıflandırma**</font> "
   ]
  },
  {
   "cell_type": "markdown",
   "id": "da3c957b-84b1-47dd-8b0a-54f44ac648ef",
   "metadata": {},
   "source": [
    "* Başlangıçta, bir Thread bazı temel başlatma işlemleri yapar ve ardından yapıcıya iletilen hedef işlevi çağıran run() yöntemini çağırır.\n",
    "\n",
    "\n",
    "* Bir Thread alt sınıfı oluşturmak için, gerekli olan her şeyi yapmak için run() öğesini geçersiz kılarız."
   ]
  },
  {
   "cell_type": "code",
   "execution_count": 1,
   "id": "0cd0e6b6-8a80-4d88-a454-ba0299122cfe",
   "metadata": {},
   "outputs": [
    {
     "name": "stderr",
     "output_type": "stream",
     "text": [
      "(Thread-5  ) running\n",
      "(Thread-6  ) running\n",
      "(Thread-7  ) running\n",
      "(Thread-8  ) running\n",
      "(Thread-9  ) running\n"
     ]
    }
   ],
   "source": [
    "import threading\n",
    "import logging\n",
    "\n",
    "\n",
    "class MyThread(threading.Thread):\n",
    "\n",
    "    def run(self):\n",
    "        logging.debug('running')\n",
    "\n",
    "\n",
    "logging.basicConfig(\n",
    "    level=logging.DEBUG,\n",
    "    format='(%(threadName)-10s) %(message)s',\n",
    ")\n",
    "\n",
    "for i in range(5):\n",
    "    t = MyThread()\n",
    "    t.start()"
   ]
  },
  {
   "cell_type": "markdown",
   "id": "4a2d3d7c-287b-454b-983e-6168ba6639da",
   "metadata": {},
   "source": [
    "*run( ) dönüş değeri yok sayılır.*"
   ]
  },
  {
   "cell_type": "markdown",
   "id": "5128c48f-5e77-41a0-8c05-8d78a9d8452f",
   "metadata": {},
   "source": [
    "Thread yapıcısına iletilen args ve kwargs değerleri, '__' öneki adlar kullanılarak özel değişkenlerde kaydedildiğinden, bunlara bir alt sınıftan kolayca erişilemez.\n",
    "\n",
    "Bağımsız değişkenleri özel bir Thread türüne iletmek için, değerleri alt sınıfta görülebilen bir örnek özniteliğinde kaydetmek üzere yapıcıyı yeniden tanımlarız."
   ]
  },
  {
   "cell_type": "code",
   "execution_count": 1,
   "id": "beeee5e7-1956-488a-b8ff-2d246f1e00d3",
   "metadata": {},
   "outputs": [
    {
     "name": "stderr",
     "output_type": "stream",
     "text": [
      "(Thread-5  ) running with (0,) and {'a': 'A', 'b': 'B'}\n",
      "(Thread-6  ) running with (1,) and {'a': 'A', 'b': 'B'}\n",
      "(Thread-7  ) running with (2,) and {'a': 'A', 'b': 'B'}\n",
      "(Thread-8  ) running with (3,) and {'a': 'A', 'b': 'B'}\n",
      "(Thread-9  ) running with (4,) and {'a': 'A', 'b': 'B'}\n"
     ]
    }
   ],
   "source": [
    "import threading\n",
    "import logging\n",
    "\n",
    "class MyThreadWithArgs(threading.Thread):\n",
    "    \n",
    "    def __init__(self, group=None, target=None, name=None,\n",
    "                args=(), kwargs=None, *, daemon=None):\n",
    "        \n",
    "        super().__init__(group=group, target=target, daemon=daemon)\n",
    "        self.args   = args\n",
    "        self.kwargs = kwargs\n",
    "       \n",
    "    \n",
    "    def run(self):\n",
    "        logging.debug('running with %s and %s', self.args, self.kwargs)\n",
    "        \n",
    "logging.basicConfig(level=logging.DEBUG,\n",
    "                   format='(%(threadName)-10s) %(message)s',)\n",
    "\n",
    "for i in range(5):\n",
    "    \n",
    "    t = MyThreadWithArgs(args=(i,), kwargs={'a':'A', 'b':'B'})\n",
    "    t.start()"
   ]
  },
  {
   "cell_type": "markdown",
   "id": "f6f0c232-4bc2-4486-9ed9-f5b232187638",
   "metadata": {},
   "source": [
    "MyThreadWithArgs, Thread ile aynı API'yi kullanır, ancak başka bir sınıf, başka herhangi bir sınıfta olduğu gibi, iş parçacığının amacıyla daha doğrudan ilişkili daha fazla veya farklı bağımsız değişkenler almak için yapıcı yöntemini kolayca değiştirebilir."
   ]
  },
  {
   "cell_type": "markdown",
   "id": "a8447a02-b0d3-4daf-8d9d-3ecfded2127a",
   "metadata": {},
   "source": [
    "### <font color=gold>**Timer Threads**</font> <font color=dimgray>**Zamanlayıcı İş Parçacıkları**</font> "
   ]
  },
  {
   "cell_type": "markdown",
   "id": "22d1db59-0f6b-4727-8736-666c69b5665b",
   "metadata": {},
   "source": [
    "* Thread'i alt sınıflamanın bir nedeni, yine threading'e dahil olan Timer tarafından sağlanmıştır.\n",
    "\n",
    "* Bir Zamanlayıcı gecikmeden sonra çalışmaya başlar ve bu gecikme süresi içinde herhangi bir noktada iptal edilebilir."
   ]
  },
  {
   "cell_type": "code",
   "execution_count": 3,
   "id": "e5106509-c9e4-493a-a377-e7b75654f7b8",
   "metadata": {},
   "outputs": [
    {
     "name": "stderr",
     "output_type": "stream",
     "text": [
      "(MainThread) starting timers\n",
      "(MainThread) waiting before cancalling t2\n",
      "(MainThread) cancelling t2\n",
      "(MainThread) done\n",
      "(t1        ) worker running\n"
     ]
    }
   ],
   "source": [
    "import threading\n",
    "import time\n",
    "import logging\n",
    "\n",
    "def delayed():\n",
    "    logging.debug('worker running')\n",
    "    \n",
    "logging.basicConfig(level=logging.DEBUG,\n",
    "                   format='(%(threadName)-10s) %(message)s',)\n",
    "\n",
    "t1 = threading.Timer(0.3, delayed)\n",
    "t1.setName('t1')\n",
    "t2 = threading.Timer(0.3, delayed)\n",
    "t2.setName('t2')\n",
    "\n",
    "logging.debug('starting timers')\n",
    "t1.start()\n",
    "t2.start()\n",
    "\n",
    "logging.debug('waiting before cancalling %s', t2.getName())\n",
    "time.sleep(0.2)\n",
    "logging.debug('cancelling %s', t2.getName())\n",
    "t2.cancel()\n",
    "logging.debug('done')"
   ]
  },
  {
   "cell_type": "markdown",
   "id": "5f369629-ecf0-4315-9d6f-29ca51e1729b",
   "metadata": {},
   "source": [
    "* Bu örnekteki ikinci zamanlayıcı hiçbir zaman çalıştırılmaz ve ana programın geri kalanı tamamlandıktan sonra ilk zamanlayıcı çalışıyor gibi görünür.\n",
    "\n",
    "* Bir daemon thread olmadığı için, ana thread bittiğinde dolaylı olarak birleştirilir."
   ]
  },
  {
   "cell_type": "markdown",
   "id": "9aa1d4bb-d089-41c1-9e07-db1a4a8b9949",
   "metadata": {},
   "source": [
    "### <font color=gold>**Signaling Between Threads**</font> <font color=dimgray>**Threads Arası Sinyalizasyon**</font> "
   ]
  },
  {
   "cell_type": "markdown",
   "id": "c4b4ac6e-2a99-44a1-8f82-e0ce020a1aff",
   "metadata": {},
   "source": [
    "* Birden çok iş parçacığı kullanmanın amacı, ayrı işlemleri aynı anda çalıştırmak olsa da, iki veya daha fazla iş parçacığındaki işlemleri senkronize edebilmenin önemli olduğu zamanlar vardır.\n",
    "\n",
    "* Olay nesneleri, iş parçacıkları arasında güvenli bir şekilde iletişim kurmanın basit bir yoludur. Bir Olay, arayanların set() ve clear() yöntemleriyle kontrol edebileceği dahili bir bayrağı yönetir.\n",
    "\n",
    "* Diğer ileti dizileri, bayrak ayarlanana kadar duraklatmak için wait()'i kullanabilir ve devam etmesine izin verilene kadar ilerlemeyi etkili bir şekilde engeller."
   ]
  },
  {
   "cell_type": "code",
   "execution_count": null,
   "id": "95244664-832a-4149-af95-c9f4097dcc7d",
   "metadata": {},
   "outputs": [],
   "source": [
    "import logging\n",
    "import threading\n",
    "import time\n",
    "\n",
    "def wait_for_event(e):\n",
    "    '''wait for event to be set before doing anything'''\n",
    "    logging.debug('wait_for_event starting')\n",
    "    event_is_set = e.wait()\n",
    "    logging.debug('event set: %s', event_is_set)\n",
    "    \n",
    "    \n",
    "def wait_for_event_timeout(e, t):\n",
    "    '''Wait t seconds and then timeout'''\n",
    "    while not e.is_set():\n",
    "        logging.debug('wait_for_event_timeout starting')\n",
    "        event_is_set = e.wait(t)\n",
    "        logging.debug('event set: %s', event_is_set)\n",
    "        if event_is_set:\n",
    "            logging.debug('processing event')\n",
    "        else:\n",
    "            logging.debug('doing other work')\n",
    "            \n",
    "\n",
    "logging.basicConfig(level=logging.DEBUG,\n",
    "                   format='(%(threadName)-10s) %(message)s',)\n",
    "\n",
    "\n",
    "e = threading.Event()\n",
    "t1 = threading.Thread(name='block', target=wait_for_event, args=(e,))\n",
    "\n",
    "t1.start()\n",
    "\n",
    "t2 = threading.Thread(name='nonblock', target=wait_for_event_timeout, args=(e,2),)\n",
    "t2.start()\n",
    "\n",
    "logging.debug('Waiting before calling Event.set()')\n",
    "time.sleep(0.3)\n",
    "e.set()\n",
    "logging.debug('Event is set')"
   ]
  },
  {
   "cell_type": "code",
   "execution_count": 8,
   "id": "c674de42-5303-4bb3-a899-0b443abd122d",
   "metadata": {
    "tags": []
   },
   "outputs": [],
   "source": [
    "# Output:\n",
    "\n",
    "# (block     ) wait_for_event starting\n",
    "# (nonblock  ) wait_for_event_timeout starting\n",
    "# (MainThread) Waiting before calling Event.set()\n",
    "# (MainThread) Event is set\n",
    "# (nonblock  ) event set: True\n",
    "# (nonblock  ) processing event\n",
    "# (block     ) event set: True"
   ]
  },
  {
   "cell_type": "markdown",
   "id": "b2472199-d0f5-4c75-8352-2f3a6451fc2f",
   "metadata": {},
   "source": [
    "* wait() yöntemi, zaman aşımına uğramadan önce olayın bekleneceği saniye sayısını temsil eden bir bağımsız değişken alır.\n",
    "\n",
    "* Olayın ayarlanıp ayarlanmadığını belirten bir Boole değeri döndürür, böylece arayan kişi wait() öğesinin neden döndürüldüğünü bilir.\n",
    "\n",
    "* is_set() yöntemi, engelleme korkusu olmadan olay üzerinde ayrı olarak kullanılabilir.\n",
    "\n",
    "* Bu örnekte \n",
    "    - wait_for_event_timeout(), olay durumunu süresiz olarak engellemeden kontrol eder. \n",
    "    - wait_for_event(), olay durumu değişene kadar geri dönmeyen wait() çağrısını engeller."
   ]
  },
  {
   "cell_type": "markdown",
   "id": "1508b396-832c-430a-80f3-633fd6d8c51a",
   "metadata": {},
   "source": [
    "### <font color=gold>**Controlling Access to Resources**</font> <font color=dimgray>**Kaynaklara Erişimi Kontrol Etme**</font> "
   ]
  },
  {
   "cell_type": "markdown",
   "id": "9c1a9001-c433-4f75-895a-1bc64185c181",
   "metadata": {},
   "source": [
    "İş parçacıklarının işlemlerini senkronize etmenin yanı sıra, bozulmayı veya veri kaybını önlemek için paylaşılan kaynaklara erişimi kontrol edebilmek de önemlidir.\n",
    "\n",
    "Python'un yerleşik veri yapıları (listeler, sözlükler vb.), onları işlemek için atomik bayt kodlarına sahip olmanın bir yan etkisi olarak iş parçacığı açısından güvenlidir (Python'un dahili veri yapılarını korumak için kullanılan genel yorumlayıcı kilidi ortada yayınlanmaz) bir güncelleme).\n",
    "\n",
    "Python'da uygulanan diğer veri yapıları veya tamsayılar ve değişkenler gibi daha basit türler bu korumaya sahip değildir.\n",
    "\n",
    "Bir nesneye eşzamanlı erişime karşı koruma sağlamak için bir Lock nesnesi kullanın."
   ]
  },
  {
   "cell_type": "code",
   "execution_count": null,
   "id": "c4fc1a43-43e9-4892-ac96-4e38c0578f69",
   "metadata": {},
   "outputs": [],
   "source": [
    "import logging\n",
    "import random\n",
    "import threading\n",
    "import time\n",
    "\n",
    "\n",
    "class Counter:\n",
    "\n",
    "    def __init__(self, start=0):\n",
    "        self.lock = threading.Lock()\n",
    "        self.value = start\n",
    "\n",
    "    def increment(self):\n",
    "        logging.debug('Waiting for lock')\n",
    "        self.lock.acquire()\n",
    "        try:\n",
    "            logging.debug('Acquired lock')\n",
    "            self.value = self.value + 1\n",
    "        finally:\n",
    "            self.lock.release()\n",
    "\n",
    "\n",
    "def worker(c):\n",
    "    for i in range(2):\n",
    "        pause = random.random()\n",
    "        logging.debug('Sleeping %0.02f', pause)\n",
    "        time.sleep(pause)\n",
    "        c.increment()\n",
    "    logging.debug('Done')\n",
    "\n",
    "\n",
    "logging.basicConfig(\n",
    "    level=logging.DEBUG,\n",
    "    format='(%(threadName)-10s) %(message)s',\n",
    ")\n",
    "\n",
    "counter = Counter()\n",
    "for i in range(2):\n",
    "    t = threading.Thread(target=worker, args=(counter,))\n",
    "    t.start()\n",
    "\n",
    "logging.debug('Waiting for worker threads')\n",
    "main_thread = threading.main_thread()\n",
    "for t in threading.enumerate():\n",
    "    if t is not main_thread:\n",
    "        t.join()\n",
    "logging.debug('Counter: %d', counter.value)"
   ]
  },
  {
   "cell_type": "markdown",
   "id": "439e16d4-cd86-4495-bdef-4c810638e5fc",
   "metadata": {
    "tags": []
   },
   "source": [
    "Bu örnekte, worker() işlevi, iki iş parçacığının dahili durumunu aynı anda değiştirmesini önlemek için bir Lock'u yöneten bir Counter örneğini artırır. Kilit kullanılmadıysa, değer özniteliğindeki değişikliği kaçırma olasılığı vardır.\n",
    "\n",
    "---"
   ]
  },
  {
   "cell_type": "code",
   "execution_count": null,
   "id": "e71f55f5-69be-4aa5-b4db-2322e58752be",
   "metadata": {},
   "outputs": [],
   "source": [
    "# (Thread-1  ) Sleeping 0.34\n",
    "# (Thread-2  ) Sleeping 0.12\n",
    "# (MainThread) Waiting for worker threads\n",
    "# (Thread-2  ) Waiting for lock\n",
    "# (Thread-2  ) Acquired lock\n",
    "# (Thread-2  ) Sleeping 0.04\n",
    "# (Thread-2  ) Waiting for lock\n",
    "# (Thread-2  ) Acquired lock\n",
    "# (Thread-2  ) Done\n",
    "# (Thread-1  ) Waiting for lock\n",
    "# (Thread-1  ) Acquired lock\n",
    "# (Thread-1  ) Sleeping 0.19\n",
    "# (Thread-1  ) Waiting for lock\n",
    "# (Thread-1  ) Acquired lock\n",
    "# (Thread-1  ) Done\n",
    "# (MainThread) Counter: 4"
   ]
  },
  {
   "cell_type": "markdown",
   "id": "5368f41d-1978-4a2b-ba70-2b986da292f9",
   "metadata": {},
   "source": [
    "* Geçerli thread durdurmadan başka bir thread'in kilidi alıp almadığını öğrenmek için, bloke eden bağımsız değişkenin accept() işlevine False iletin.\n",
    "\n",
    "* Bir sonraki örnekte, worker() kilidi üç ayrı kez elde etmeye çalışır ve bunu yapmak için kaç deneme yapması gerektiğini sayar.\n",
    "\n",
    "* Bu arada, lock_holder(), yükü simüle etmek için kullanılan her durumda kısa duraklamalarla kilidi tutma ve serbest bırakma arasında geçiş yapar."
   ]
  },
  {
   "cell_type": "code",
   "execution_count": null,
   "id": "e7485b20-3dc0-4493-952d-b2bb4f63c371",
   "metadata": {},
   "outputs": [],
   "source": [
    "import logging\n",
    "import time \n",
    "import threading\n",
    "\n",
    "\n",
    "def lock_holder(lock):\n",
    "    logging.debug('Starting')\n",
    "    while True:\n",
    "        lock.acquire()\n",
    "        try:\n",
    "            logging.debug('Holding')\n",
    "            time.sleep(0.5)\n",
    "        finally:\n",
    "            logging.debug('Not Holding')\n",
    "            lock.release()\n",
    "        time.sleep(0.5)\n",
    "        \n",
    "\n",
    "def worker(lock):\n",
    "        logging.debug('Starting')\n",
    "        num_tries = 0\n",
    "        num_acquires = 0\n",
    "        while num_acquires < 3:\n",
    "            time.sleep(0.5)\n",
    "            logging.debug('Trying to acquire')\n",
    "            have_it = lock.acquire(0)\n",
    "            try:\n",
    "                num_tries += 1\n",
    "                if have_it:\n",
    "                    logging.debug('Iteration %d: Acquired',\n",
    "                                 num_tries)\n",
    "                    num_acquires += 1\n",
    "                else:\n",
    "                    logging.debug('Iteration %d: Not acquired',\n",
    "                                 num_tries)\n",
    "            finally:\n",
    "                if have_it:\n",
    "                    lock.release()\n",
    "        logging.debug('Done after %d iterations', num_tries)\n",
    "    \n",
    "    \n",
    "    \n",
    "logging.basicConfig(level=logging.DEBUG,\n",
    "                   format='(%(threadName)-10s) %(message)s',)\n",
    "\n",
    "\n",
    "lock = threading.Lock()\n",
    "\n",
    "holder = threading.Thread(target=lock_holder,\n",
    "                         args=(lock,),\n",
    "                         name='LockHolder',\n",
    "                         daemon=True,)\n",
    "holder.start()\n",
    "\n",
    "worker = threading.Thread(target=worker,\n",
    "                         args=(lock,),\n",
    "                         name='Worker',)\n",
    "worker.start()"
   ]
  },
  {
   "cell_type": "code",
   "execution_count": 1,
   "id": "59314245-732a-4f11-9d90-e9b6d26f47e4",
   "metadata": {
    "collapsed": true,
    "jupyter": {
     "outputs_hidden": true
    },
    "tags": []
   },
   "outputs": [
    {
     "data": {
      "text/plain": [
       "'\\n(LockHolder) Starting\\n(LockHolder) Holding\\n(Worker    ) Starting\\n(Worker    ) Trying to acquire\\n(Worker    ) Iteration 1: Not acquired\\n(LockHolder) Not holding\\n(LockHolder) Holding\\n(Worker    ) Trying to acquire\\n(Worker    ) Iteration 2: Not acquired\\n(LockHolder) Not holding\\n(Worker    ) Trying to acquire\\n(Worker    ) Iteration 3: Acquired\\n(Worker    ) Trying to acquire\\n(LockHolder) Holding\\n(Worker    ) Iteration 4: Not acquired\\n(Worker    ) Trying to acquire\\n(LockHolder) Not holding\\n(Worker    ) Iteration 5: Not acquired\\n(Worker    ) Trying to acquire\\n(LockHolder) Holding\\n(Worker    ) Iteration 6: Not acquired\\n(Worker    ) Trying to acquire\\n(Worker    ) Iteration 7: Not acquired\\n(LockHolder) Not holding\\n(Worker    ) Trying to acquire\\n(Worker    ) Iteration 8: Acquired\\n(LockHolder) Holding\\n(LockHolder) Not holding\\n(Worker    ) Trying to acquire\\n(Worker    ) Iteration 9: Acquired\\n(Worker    ) Done after 9 iterations\\n'"
      ]
     },
     "execution_count": 1,
     "metadata": {},
     "output_type": "execute_result"
    }
   ],
   "source": [
    "# Output:\n",
    "\n",
    "'''\n",
    "(LockHolder) Starting\n",
    "(LockHolder) Holding\n",
    "(Worker    ) Starting\n",
    "(Worker    ) Trying to acquire\n",
    "(Worker    ) Iteration 1: Not acquired\n",
    "(LockHolder) Not holding\n",
    "(LockHolder) Holding\n",
    "(Worker    ) Trying to acquire\n",
    "(Worker    ) Iteration 2: Not acquired\n",
    "(LockHolder) Not holding\n",
    "(Worker    ) Trying to acquire\n",
    "(Worker    ) Iteration 3: Acquired\n",
    "(Worker    ) Trying to acquire\n",
    "(LockHolder) Holding\n",
    "(Worker    ) Iteration 4: Not acquired\n",
    "(Worker    ) Trying to acquire\n",
    "(LockHolder) Not holding\n",
    "(Worker    ) Iteration 5: Not acquired\n",
    "(Worker    ) Trying to acquire\n",
    "(LockHolder) Holding\n",
    "(Worker    ) Iteration 6: Not acquired\n",
    "(Worker    ) Trying to acquire\n",
    "(Worker    ) Iteration 7: Not acquired\n",
    "(LockHolder) Not holding\n",
    "(Worker    ) Trying to acquire\n",
    "(Worker    ) Iteration 8: Acquired\n",
    "(LockHolder) Holding\n",
    "(LockHolder) Not holding\n",
    "(Worker    ) Trying to acquire\n",
    "(Worker    ) Iteration 9: Acquired\n",
    "(Worker    ) Done after 9 iterations\n",
    "'''"
   ]
  },
  {
   "cell_type": "markdown",
   "id": "699e8e5f-487e-4763-b981-99399c041f43",
   "metadata": {},
   "source": [
    "### <font color=gold>**Re-entrant Locks**</font> <font color=dimgray>**Yeniden Giren Kilitler**</font> "
   ]
  },
  {
   "cell_type": "markdown",
   "id": "2f478778-734f-4dc4-8353-65a694d6e4fe",
   "metadata": {},
   "source": [
    "* Normal Lock nesneleri, aynı iş parçacığı tarafından bile bir defadan fazla alınamaz.\n",
    "\n",
    "* Bir kilide aynı çağrı zincirinde birden fazla işlev tarafından erişilirse, bu istenmeyen yan etkilere neden olabilir."
   ]
  },
  {
   "cell_type": "code",
   "execution_count": 2,
   "id": "1c6ddc88-79a2-42a4-af17-3dd37de348de",
   "metadata": {},
   "outputs": [
    {
     "name": "stdout",
     "output_type": "stream",
     "text": [
      "First try:  True\n",
      "Second try:  False\n"
     ]
    }
   ],
   "source": [
    "import threading\n",
    "\n",
    "lock = threading.Lock()\n",
    "\n",
    "print('First try: ',lock.acquire())\n",
    "print('Second try: ',lock.acquire(0))"
   ]
  },
  {
   "cell_type": "markdown",
   "id": "83167424-6ebd-4571-9f08-b8899df7adbe",
   "metadata": {},
   "source": [
    "Bu durumda, birinci arama tarafından kilit elde edildiğinden, ikinci accept() çağrısına bloke etmesini önlemek için sıfır zaman aşımı verilir."
   ]
  },
  {
   "cell_type": "markdown",
   "id": "c1d8aa59-9ad7-4c72-b27c-72addb04b38e",
   "metadata": {},
   "source": [
    "___\n",
    "Aynı iş parçacığından ayrı bir kodun kilidi \"yeniden alması\" gereken bir durumda, bunun yerine bir RLlock kullanın."
   ]
  },
  {
   "cell_type": "code",
   "execution_count": 4,
   "id": "ed864fc9-e76a-4b6a-8ab0-db69f1e89a75",
   "metadata": {},
   "outputs": [
    {
     "name": "stdout",
     "output_type": "stream",
     "text": [
      "First try:  True\n",
      "Second try:  True\n"
     ]
    }
   ],
   "source": [
    "import threading\n",
    "\n",
    "lock = threading.RLock()\n",
    "\n",
    "print('First try: ',lock.acquire())\n",
    "print('Second try: ',lock.acquire(0))"
   ]
  },
  {
   "cell_type": "markdown",
   "id": "dd3fccc0-4367-4d81-b91b-ddf853065b15",
   "metadata": {},
   "source": [
    "Önceki örnekteki kodda yapılan tek değişiklik, Lock yerine RLock kullanılmasıydı."
   ]
  },
  {
   "cell_type": "markdown",
   "id": "043cc855-c1c4-4eb3-a158-e03a7cbb59b0",
   "metadata": {},
   "source": [
    "### <font color=gold>**Synchronizing Threads**</font> <font color=dimgray>**Thread'leri Senkronize Etme**</font> "
   ]
  },
  {
   "cell_type": "markdown",
   "id": "c1ffaf8a-c2e0-41d0-ade3-101f8f123a67",
   "metadata": {},
   "source": [
    "* Events kullanmaya ek olarak, dizileri senkronize etmenin başka bir yolu da bir Condition (Koşul) nesnesi kullanmaktır.\n",
    "\n",
    "* Condition bir Lock kullandığından, paylaşılan bir kaynağa bağlanabilir ve birden çok iş parçacığının kaynağın güncellenmesini beklemesine olanak tanır.\n",
    "\n",
    "* Bu örnekte, consumer() iş parçacıkları devam etmeden önce Condition 'un ayarlanmasını bekler.\n",
    "\n",
    "* producer() iş parçacığı, koşulu ayarlamaktan ve diğer iş parçacıklarına devam edebileceklerini bildirmekten sorumludur."
   ]
  },
  {
   "cell_type": "code",
   "execution_count": 5,
   "id": "f7bc8ad5-3b8b-4b58-8687-95d2dee62920",
   "metadata": {},
   "outputs": [
    {
     "name": "stderr",
     "output_type": "stream",
     "text": [
      "2023-02-01 16:41:58,102 (c1) Starting consumer thread\n",
      "2023-02-01 16:41:58,307 (c2) Starting consumer thread\n",
      "2023-02-01 16:41:58,515 (p ) Starting producer thread\n",
      "2023-02-01 16:41:58,520 (p ) Making resource available\n",
      "2023-02-01 16:41:58,531 (c2) Resource is available to consumer\n",
      "2023-02-01 16:41:58,531 (c1) Resource is available to consumer\n"
     ]
    }
   ],
   "source": [
    "import logging\n",
    "import threading\n",
    "import time\n",
    "\n",
    "\n",
    "def consumer(cond):\n",
    "    \"\"\"wait for the condition and use the resource\"\"\"\n",
    "    logging.debug('Starting consumer thread')\n",
    "    with cond:\n",
    "        cond.wait()\n",
    "        logging.debug('Resource is available to consumer')\n",
    "\n",
    "\n",
    "def producer(cond):\n",
    "    \"\"\"set up the resource to be used by the consumer\"\"\"\n",
    "    logging.debug('Starting producer thread')\n",
    "    with cond:\n",
    "        logging.debug('Making resource available')\n",
    "        cond.notifyAll()\n",
    "\n",
    "\n",
    "logging.basicConfig(\n",
    "    level=logging.DEBUG,\n",
    "    format='%(asctime)s (%(threadName)-2s) %(message)s',\n",
    ")\n",
    "\n",
    "condition = threading.Condition()\n",
    "c1 = threading.Thread(name='c1', target=consumer,\n",
    "                      args=(condition,))\n",
    "c2 = threading.Thread(name='c2', target=consumer,\n",
    "                      args=(condition,))\n",
    "p = threading.Thread(name='p', target=producer,\n",
    "                     args=(condition,))\n",
    "\n",
    "c1.start()\n",
    "time.sleep(0.2)\n",
    "c2.start()\n",
    "time.sleep(0.2)\n",
    "p.start()"
   ]
  },
  {
   "cell_type": "markdown",
   "id": "5ad3612e-9c1e-4509-9bf1-970fb3d5c6ec",
   "metadata": {},
   "source": [
    "İş parçacıkları, Condition ile ilişkili kilidi elde etmek için **with** kullanır. Acquire() ve release() yöntemlerini açıkça kullanmak da işe yarar."
   ]
  },
  {
   "cell_type": "markdown",
   "id": "69e27cab-4a34-47d9-8480-cac3bd381942",
   "metadata": {},
   "source": [
    "---\n",
    "\n",
    "- Engeller, başka bir iş parçacığı senkronizasyon mekanizmasıdır.\n",
    "\n",
    "- Bir Barrier, bir kontrol noktası oluşturur ve katılan tüm \"taraflar\" bu noktaya ulaşana kadar tüm katılımcı ileti dizileri bloke eder.\n",
    "\n",
    "- İş parçacıklarının ayrı ayrı başlatılmasını ve ardından tümü ilerlemeye hazır olana kadar duraklatılmasını sağlar."
   ]
  },
  {
   "cell_type": "code",
   "execution_count": 6,
   "id": "7f15b112-49a8-4dcc-a3d4-fd85b365b7ec",
   "metadata": {},
   "outputs": [
    {
     "name": "stdout",
     "output_type": "stream",
     "text": [
      "worker-0 starting\n",
      "worker-0 waiting for barrier with 0 others\n",
      "worker-1 starting\n",
      "worker-1 waiting for barrier with 1 others\n",
      "worker-2 starting\n",
      "worker-2 waiting for barrier with 2 others\n",
      "worker-2 after barrier 2\n",
      "worker-1 after barrier 1\n",
      "worker-0 after barrier 0\n"
     ]
    }
   ],
   "source": [
    "import threading\n",
    "import time\n",
    "\n",
    "\n",
    "def worker(barrier):\n",
    "    print(threading.current_thread().name,\n",
    "          'waiting for barrier with {} others'.format(\n",
    "              barrier.n_waiting))\n",
    "    worker_id = barrier.wait()\n",
    "    print(threading.current_thread().name, 'after barrier',\n",
    "          worker_id)\n",
    "\n",
    "\n",
    "NUM_THREADS = 3\n",
    "\n",
    "barrier = threading.Barrier(NUM_THREADS)\n",
    "\n",
    "threads = [\n",
    "    threading.Thread(\n",
    "        name='worker-%s' % i,\n",
    "        target=worker,\n",
    "        args=(barrier,),\n",
    "    )\n",
    "    for i in range(NUM_THREADS)\n",
    "]\n",
    "\n",
    "for t in threads:\n",
    "    print(t.name, 'starting')\n",
    "    t.start()\n",
    "    time.sleep(0.1)\n",
    "\n",
    "for t in threads:\n",
    "    t.join()"
   ]
  },
  {
   "cell_type": "markdown",
   "id": "9e22d6fe-d692-4e24-b532-dc3e9f11ae01",
   "metadata": {},
   "source": [
    "- Bu örnekte Barrier, üç iş parçacığı bekleyene kadar engelleyecek şekilde yapılandırılmıştır.\n",
    "\n",
    "- Koşul karşılandığında, tüm iş parçacıkları aynı anda kontrol noktasından serbest bırakılır.\n",
    "\n",
    "- wait() işlevinden dönen değer, serbest bırakılan tarafın sayısını belirtir ve bazı iş parçacıklarının paylaşılan bir kaynağı temizlemek gibi bir eylem gerçekleştirmesini sınırlamak için kullanılabilir."
   ]
  },
  {
   "cell_type": "markdown",
   "id": "06c8b25c-8af6-4718-9df9-0f43f43dfa00",
   "metadata": {},
   "source": [
    "---\n",
    "\n",
    "Barrier'in abort() yöntemi, bekleyen tüm iş parçacıklarının bir BrokenBarrierError almasına neden olur.\n",
    "\n",
    "\n",
    "Bu, wait() üzerinde engellenirken işleme durdurulursa iş parçacıklarının temizlenmesini sağlar."
   ]
  },
  {
   "cell_type": "code",
   "execution_count": 7,
   "id": "c8b52c9d-fa33-4c52-b41f-d2c303ebc277",
   "metadata": {},
   "outputs": [
    {
     "name": "stdout",
     "output_type": "stream",
     "text": [
      "worker-0 starting\n",
      "worker-0 waiting for barrier with 0 others\n",
      "worker-1 starting\n",
      "worker-1 waiting for barrier with 1 others\n",
      "worker-2 starting\n",
      "worker-2 waiting for barrier with 2 others\n",
      "worker-0 aborting\n",
      "worker-2 aborting\n",
      "worker-1 aborting\n"
     ]
    }
   ],
   "source": [
    "import threading\n",
    "import time\n",
    "\n",
    "\n",
    "def worker(barrier):\n",
    "    print(threading.current_thread().name,\n",
    "          'waiting for barrier with {} others'.format(\n",
    "              barrier.n_waiting))\n",
    "    try:\n",
    "        worker_id = barrier.wait()\n",
    "    except threading.BrokenBarrierError:\n",
    "        print(threading.current_thread().name, 'aborting')\n",
    "    else:\n",
    "        print(threading.current_thread().name, 'after barrier',\n",
    "              worker_id)\n",
    "\n",
    "\n",
    "NUM_THREADS = 3\n",
    "\n",
    "barrier = threading.Barrier(NUM_THREADS + 1)\n",
    "\n",
    "threads = [\n",
    "    threading.Thread(\n",
    "        name='worker-%s' % i,\n",
    "        target=worker,\n",
    "        args=(barrier,),\n",
    "    )\n",
    "    for i in range(NUM_THREADS)\n",
    "]\n",
    "\n",
    "for t in threads:\n",
    "    print(t.name, 'starting')\n",
    "    t.start()\n",
    "    time.sleep(0.1)\n",
    "\n",
    "barrier.abort()\n",
    "\n",
    "for t in threads:\n",
    "    t.join()"
   ]
  },
  {
   "cell_type": "markdown",
   "id": "78e6f7e9-e6ba-4d94-b27b-465922cb27e0",
   "metadata": {},
   "source": [
    "### <font color=gold>**Limiting Concurrent Access to Resources**</font> \n",
    "### <font color=dimgray>**(Kaynaklara Eşzamanlı Erişimi Sınırlandırma)**</font> "
   ]
  },
  {
   "cell_type": "markdown",
   "id": "cfd1a570-5c09-4d18-b627-4cb90f20480c",
   "metadata": {},
   "source": [
    "* Bazen bir kaynağa aynı anda birden fazla çalışanın erişmesine izin verirken toplam sayıyı sınırlamak yararlı olabilir.\n",
    "\n",
    "* Örneğin, bir bağlantı havuzu sabit sayıda eşzamanlı bağlantıyı destekleyebilir veya bir ağ uygulaması sabit sayıda eşzamanlı indirmeyi destekleyebilir.\n",
    "\n",
    "* Semaphore, bu bağlantıları yönetmenin bir yoludur."
   ]
  },
  {
   "cell_type": "code",
   "execution_count": 8,
   "id": "af1a6404-6dcd-484c-a512-294224d0c391",
   "metadata": {},
   "outputs": [
    {
     "name": "stderr",
     "output_type": "stream",
     "text": [
      "2023-02-01 16:57:16,846 (0 ) Waiting to join the pool\n",
      "2023-02-01 16:57:16,852 (0 ) Running: ['0']\n",
      "2023-02-01 16:57:16,853 (1 ) Waiting to join the pool\n",
      "2023-02-01 16:57:16,859 (2 ) Waiting to join the pool\n",
      "2023-02-01 16:57:16,859 (1 ) Running: ['0', '1']\n",
      "2023-02-01 16:57:16,862 (3 ) Waiting to join the pool\n",
      "2023-02-01 16:57:16,959 (0 ) Running: ['1']\n",
      "2023-02-01 16:57:16,960 (2 ) Running: ['1', '2']\n",
      "2023-02-01 16:57:16,968 (1 ) Running: ['2']\n",
      "2023-02-01 16:57:16,968 (3 ) Running: ['2', '3']\n",
      "2023-02-01 16:57:17,074 (3 ) Running: ['2']\n",
      "2023-02-01 16:57:17,074 (2 ) Running: []\n"
     ]
    }
   ],
   "source": [
    "import logging\n",
    "import random\n",
    "import threading\n",
    "import time\n",
    "\n",
    "\n",
    "class ActivePool:\n",
    "\n",
    "    def __init__(self):\n",
    "        super(ActivePool, self).__init__()\n",
    "        self.active = []\n",
    "        self.lock = threading.Lock()\n",
    "\n",
    "    def makeActive(self, name):\n",
    "        with self.lock:\n",
    "            self.active.append(name)\n",
    "            logging.debug('Running: %s', self.active)\n",
    "\n",
    "    def makeInactive(self, name):\n",
    "        with self.lock:\n",
    "            self.active.remove(name)\n",
    "            logging.debug('Running: %s', self.active)\n",
    "\n",
    "\n",
    "def worker(s, pool):\n",
    "    logging.debug('Waiting to join the pool')\n",
    "    with s:\n",
    "        name = threading.current_thread().getName()\n",
    "        pool.makeActive(name)\n",
    "        time.sleep(0.1)\n",
    "        pool.makeInactive(name)\n",
    "\n",
    "\n",
    "logging.basicConfig(\n",
    "    level=logging.DEBUG,\n",
    "    format='%(asctime)s (%(threadName)-2s) %(message)s',\n",
    ")\n",
    "\n",
    "pool = ActivePool()\n",
    "s = threading.Semaphore(2)\n",
    "for i in range(4):\n",
    "    t = threading.Thread(\n",
    "        target=worker,\n",
    "        name=str(i),\n",
    "        args=(s, pool),\n",
    "    )\n",
    "    t.start()"
   ]
  },
  {
   "cell_type": "markdown",
   "id": "293ca143-15e2-49a3-8fa9-6a64512e4522",
   "metadata": {},
   "source": [
    "Bu örnekte, ActivePool sınıfı, belirli bir anda hangi iş parçacıklarının çalışabileceğini izlemek için uygun bir yol olarak hizmet eder.\n",
    "\n",
    "Gerçek bir kaynak havuzu, yeni aktif iş parçacığına bir bağlantı veya başka bir değer tahsis eder ve iş parçacığı bittiğinde değeri geri alır.\n",
    "\n",
    "Burada, en fazla ikisinin aynı anda çalıştığını göstermek için etkin iş parçacıklarının adlarını tutmak için kullanılır."
   ]
  },
  {
   "cell_type": "markdown",
   "id": "f585c203-83d7-4639-848e-775f44300c85",
   "metadata": {},
   "source": [
    "### <font color=gold>**Thread-specific Data**</font > <font color=dimgray>**(Konuya Özgü Veriler)**</font> "
   ]
  },
  {
   "cell_type": "markdown",
   "id": "889438a1-f590-4a79-9db6-05c55f4ee5f1",
   "metadata": {},
   "source": [
    "* Bazı kaynakların birden çok iş parçacığının kullanabilmesi için kilitlenmesi gerekirken, diğerlerinin kendilerine sahip olmayan iş parçacıklarından gizlenecek şekilde korunmaları gerekir.\n",
    "\n",
    "* local() sınıfı, ayrı evrelerde görünümden değerleri gizleyebilen bir nesne yaratır."
   ]
  },
  {
   "cell_type": "code",
   "execution_count": 1,
   "id": "cb10680f-1827-4c1b-872e-2571a172b42f",
   "metadata": {},
   "outputs": [
    {
     "name": "stderr",
     "output_type": "stream",
     "text": [
      "(MainThread) No value yet\n",
      "(MainThread) value=1000\n",
      "(Thread-5  ) No value yet\n",
      "(Thread-6  ) No value yet\n",
      "(Thread-5  ) value=85\n",
      "(Thread-6  ) value=52\n"
     ]
    }
   ],
   "source": [
    "import random\n",
    "import threading\n",
    "import logging\n",
    "\n",
    "\n",
    "def show_value(data):\n",
    "    try:\n",
    "        val = data.value\n",
    "    except AttributeError:\n",
    "        logging.debug('No value yet')\n",
    "    else:\n",
    "        logging.debug('value=%s', val)\n",
    "\n",
    "\n",
    "def worker(data):\n",
    "    show_value(data)\n",
    "    data.value = random.randint(1, 100)\n",
    "    show_value(data)\n",
    "\n",
    "\n",
    "logging.basicConfig(\n",
    "    level=logging.DEBUG,\n",
    "    format='(%(threadName)-10s) %(message)s',\n",
    ")\n",
    "\n",
    "local_data = threading.local()\n",
    "show_value(local_data)\n",
    "local_data.value = 1000\n",
    "show_value(local_data)\n",
    "\n",
    "for i in range(2):\n",
    "    t = threading.Thread(target=worker, args=(local_data,))\n",
    "    t.start()"
   ]
  },
  {
   "cell_type": "markdown",
   "id": "d38b80d5-dd44-4350-8595-73448c8ace3c",
   "metadata": {},
   "source": [
    "local_data.value özniteliği, o iş parçacığında ayarlanana kadar herhangi bir iş parçacığı için mevcut değildir."
   ]
  },
  {
   "cell_type": "markdown",
   "id": "b1779341-7a05-49a2-b22a-e7accd6dd0dc",
   "metadata": {},
   "source": [
    "---\n",
    "Tüm iş parçacıklarının aynı değerle başlaması için ayarları başlatmak için, bir alt sınıf kullanmak ve nitelikleri   _ _ init_ _( ) içinde ayarlanır."
   ]
  },
  {
   "cell_type": "code",
   "execution_count": 2,
   "id": "f49f9e43-222c-45a4-b130-ad04960edebc",
   "metadata": {},
   "outputs": [
    {
     "name": "stderr",
     "output_type": "stream",
     "text": [
      "(MainThread) Initializing <__main__.MyLocal object at 0x00000280C178F2E0>\n",
      "(MainThread) value=1000\n",
      "(Thread-7  ) Initializing <__main__.MyLocal object at 0x00000280C178F2E0>\n",
      "(Thread-8  ) Initializing <__main__.MyLocal object at 0x00000280C178F2E0>\n",
      "(Thread-7  ) value=1000\n",
      "(Thread-8  ) value=1000\n",
      "(Thread-7  ) value=22\n",
      "(Thread-8  ) value=47\n"
     ]
    }
   ],
   "source": [
    "import random\n",
    "import threading\n",
    "import logging\n",
    "\n",
    "\n",
    "def show_value(data):\n",
    "    try:\n",
    "        val = data.value\n",
    "    except AttributeError:\n",
    "        logging.debug('No value yet')\n",
    "    else:\n",
    "        logging.debug('value=%s', val)\n",
    "\n",
    "\n",
    "def worker(data):\n",
    "    show_value(data)\n",
    "    data.value = random.randint(1, 100)\n",
    "    show_value(data)\n",
    "\n",
    "\n",
    "class MyLocal(threading.local):\n",
    "\n",
    "    def __init__(self, value):\n",
    "        super().__init__()\n",
    "        logging.debug('Initializing %r', self)\n",
    "        self.value = value\n",
    "\n",
    "\n",
    "logging.basicConfig(\n",
    "    level=logging.DEBUG,\n",
    "    format='(%(threadName)-10s) %(message)s',\n",
    ")\n",
    "\n",
    "local_data = MyLocal(1000)\n",
    "show_value(local_data)\n",
    "\n",
    "for i in range(2):\n",
    "    t = threading.Thread(target=worker, args=(local_data,))\n",
    "    t.start()"
   ]
  },
  {
   "cell_type": "markdown",
   "id": "93154f50-f453-4b20-ae3d-696443de6824",
   "metadata": {},
   "source": [
    "_ _ init _ _( ), varsayılan değerleri ayarlamak için her iş parçacığında bir kez aynı nesnede çağrılır ( id( ) değerine dikkat edilmelidir)."
   ]
  }
 ],
 "metadata": {
  "kernelspec": {
   "display_name": "Python 3 (ipykernel)",
   "language": "python",
   "name": "python3"
  },
  "language_info": {
   "codemirror_mode": {
    "name": "ipython",
    "version": 3
   },
   "file_extension": ".py",
   "mimetype": "text/x-python",
   "name": "python",
   "nbconvert_exporter": "python",
   "pygments_lexer": "ipython3",
   "version": "3.9.15"
  }
 },
 "nbformat": 4,
 "nbformat_minor": 5
}
